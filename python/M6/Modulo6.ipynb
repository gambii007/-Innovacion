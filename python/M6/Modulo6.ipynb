{
 "cells": [
  {
   "cell_type": "markdown",
   "metadata": {},
   "source": [
    "### Modulo 6\n",
    "#### Ejercicio 5"
   ]
  },
  {
   "cell_type": "code",
   "execution_count": 7,
   "metadata": {},
   "outputs": [
    {
     "name": "stdout",
     "output_type": "stream",
     "text": [
      "Cantidad de Planetas: 8\n"
     ]
    }
   ],
   "source": [
    "# Creamos la lista planets y la mostramos\n",
    "planets = ['Mercury', 'Venus', 'Earth', 'Mars', 'Jupiter', 'Saturn', 'Uranus', 'Neptune']\n",
    "cantidadP = len(planets)\n",
    "print(\"Cantidad de Planetas:\", cantidadP)"
   ]
  },
  {
   "cell_type": "code",
   "execution_count": 8,
   "metadata": {},
   "outputs": [
    {
     "name": "stdout",
     "output_type": "stream",
     "text": [
      "Cantidad de Planetas:  9\n",
      "Ultimo Planeta:  Pluton\n"
     ]
    }
   ],
   "source": [
    "# Agregamos a plutón y mostramos el último elemento\n",
    "planets.append(\"Pluton\")\n",
    "cantidadP = len(planets)\n",
    "ultimoP = planets[-1]\n",
    "print(\"Cantidad de Planetas: \", cantidadP)\n",
    "print(\"Ultimo Planeta: \", ultimoP)"
   ]
  },
  {
   "cell_type": "markdown",
   "metadata": {},
   "source": [
    "#### Ejercicio 2"
   ]
  },
  {
   "cell_type": "code",
   "execution_count": 12,
   "metadata": {},
   "outputs": [],
   "source": [
    "# Lista de planetas\n",
    "planets = ['Mercury', 'Venus', 'Earth', 'Mars', 'Jupiter', 'Saturn', 'Neptune']"
   ]
  },
  {
   "cell_type": "code",
   "execution_count": 22,
   "metadata": {},
   "outputs": [
    {
     "name": "stdout",
     "output_type": "stream",
     "text": [
      "El planeta [ Mercury ] se encuentra en la posicion:  1\n",
      "Los planetas mas cercanos al Sol son:  []\n",
      "Los planetas mas alejados al Sol son:  ['Venus', 'Earth', 'Mars', 'Jupiter', 'Saturn', 'Neptune']\n"
     ]
    }
   ],
   "source": [
    "# Solicitamos el nombre de un planeta *Pista:  input()*\n",
    "nameP = input(\"Ingrese el nombre del planeta, iniciadno con Mayus\")\n",
    "\n",
    "# Busca el planeta en la lista\n",
    "nameI = planets.index(nameP)\n",
    "print(\"El planeta [\", nameP,\"] se encuentra en la posicion: \", nameI + 1)\n",
    "\n",
    "# Muestra los planetas más cercanos al sol\n",
    "cercanosP = planets[0:nameI]\n",
    "print(\"Los planetas mas cercanos al Sol son: \", cercanosP)\n",
    "\n",
    "# Muestra los planetas más lejanos al sol\n",
    "lejanosP = planets[nameI+1:len(planets)]\n",
    "print(\"Los planetas mas alejados al Sol son: \", lejanosP)"
   ]
  },
  {
   "cell_type": "code",
   "execution_count": null,
   "metadata": {},
   "outputs": [],
   "source": []
  }
 ],
 "metadata": {
  "interpreter": {
   "hash": "ec38f76fcab742012672535d698c95861923b92492bae042536e8242028f44cd"
  },
  "kernelspec": {
   "display_name": "Python 3.10.2 64-bit",
   "language": "python",
   "name": "python3"
  },
  "language_info": {
   "codemirror_mode": {
    "name": "ipython",
    "version": 3
   },
   "file_extension": ".py",
   "mimetype": "text/x-python",
   "name": "python",
   "nbconvert_exporter": "python",
   "pygments_lexer": "ipython3",
   "version": "3.10.2"
  },
  "orig_nbformat": 4
 },
 "nbformat": 4,
 "nbformat_minor": 2
}
