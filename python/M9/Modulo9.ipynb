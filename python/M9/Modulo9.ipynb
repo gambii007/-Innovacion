{
 "cells": [
  {
   "cell_type": "markdown",
   "metadata": {},
   "source": [
    "### Modulo 9\n",
    "#### Ejercicio 1"
   ]
  },
  {
   "cell_type": "code",
   "execution_count": 14,
   "metadata": {},
   "outputs": [
    {
     "name": "stdout",
     "output_type": "stream",
     "text": [
      "Reporte:\n",
      "    Promedio: 10.0%\n",
      "    Tanque1: 10%\n",
      "    Tanque2: 10%\n",
      "    Tanque3: 10% \n",
      "    \n"
     ]
    }
   ],
   "source": [
    "# Función para leer 3 tanques de combustible y muestre el promedio\n",
    "\n",
    "def tanques(tanque1, tanque2, tanque3):\n",
    "    \n",
    "    total_tanques = (tanque1 + tanque2 + tanque3)/3\n",
    " \n",
    "    return f\"\"\"Reporte:\n",
    "    Promedio: {total_tanques}%\n",
    "    Tanque1: {tanque1}%\n",
    "    Tanque2: {tanque2}%\n",
    "    Tanque3: {tanque3}% \n",
    "    \"\"\"\n",
    "\n",
    "print(tanques(10,10,10))"
   ]
  },
  {
   "cell_type": "code",
   "execution_count": 24,
   "metadata": {},
   "outputs": [
    {
     "data": {
      "text/plain": [
       "20.0"
      ]
     },
     "execution_count": 24,
     "metadata": {},
     "output_type": "execute_result"
    }
   ],
   "source": [
    "def promedio(val1, val2, val3):\n",
    "    prom = (val1 + val2 + val3)/3\n",
    "    return prom\n",
    "\n",
    "promedio(20,20,20)"
   ]
  },
  {
   "cell_type": "code",
   "execution_count": 27,
   "metadata": {},
   "outputs": [
    {
     "name": "stdout",
     "output_type": "stream",
     "text": [
      "Reporte:\n",
      "    Promedio: 26.666666666666668%\n",
      "    Tanque1: 10%\n",
      "    Tanque2: 20%\n",
      "    Tanque3: 50% \n",
      "    \n"
     ]
    }
   ],
   "source": [
    "def tanques(tanque1, tanque2, tanque3): \n",
    "    return f\"\"\"Reporte:\n",
    "    Promedio: {promedio(tanque1,tanque2,tanque3)}%\n",
    "    Tanque1: {tanque1}%\n",
    "    Tanque2: {tanque2}%\n",
    "    Tanque3: {tanque3}% \n",
    "    \"\"\"\n",
    "\n",
    "print(tanques(10,20,50))"
   ]
  },
  {
   "cell_type": "markdown",
   "metadata": {},
   "source": [
    "#### Ejercicio 4"
   ]
  },
  {
   "cell_type": "code",
   "execution_count": 35,
   "metadata": {},
   "outputs": [
    {
     "name": "stdout",
     "output_type": "stream",
     "text": [
      "\n",
      "    Mision a Moon\n",
      "    =================================================\n",
      "    Tiempo de Lanzamiento 14 Minutos\n",
      "    Tiempo estimado de viaje 51 Minutos\n",
      "    Tiempo de Total de Viaje 65 Minutos\n",
      "    =================================================\n",
      "    Tanque Externo 200000 Litros\n",
      "    Tanque Interno 300000 Litros\n",
      "    Total de Combustible 500000 Litros\n",
      "    =================================================\n"
     ]
    }
   ],
   "source": [
    "# Función con un informe preciso de la misión.\n",
    "# Considera hora de prelanzamiento, tiempo de vuelo, destino, tanque externo y tanque interno\n",
    "\n",
    "def cohete(lanzamientoP, tiempoV, destino, tanqueE, tanqueI):\n",
    "    return f\"\"\"\n",
    "    Mision a {destino}\n",
    "    =================================================\n",
    "    Tiempo de Lanzamiento {lanzamientoP} Minutos\n",
    "    Tiempo estimado de viaje {tiempoV} Minutos\n",
    "    Tiempo de Total de Viaje {lanzamientoP + tiempoV} Minutos\n",
    "    =================================================\n",
    "    Tanque Externo {tanqueE} Litros\n",
    "    Tanque Interno {tanqueI} Litros\n",
    "    Total de Combustible {tanqueE + tanqueI} Litros\n",
    "    =================================================\"\"\"   \n",
    "\n",
    "\n",
    "print(cohete(14, 51, \"Moon\", 200000, 300000))"
   ]
  },
  {
   "cell_type": "code",
   "execution_count": 44,
   "metadata": {},
   "outputs": [
    {
     "name": "stdout",
     "output_type": "stream",
     "text": [
      "\n",
      "    \n",
      "    Mision a Moon\n",
      "    =================================================\n",
      "    Tiempo de Total de Viaje 70 Minutos\n",
      "    =================================================\n",
      "    Total de Tanques 66666\n",
      "    =================================================\n"
     ]
    }
   ],
   "source": [
    "def cohete(destino, *tiempo, **tanqueG):\n",
    "    return f\"\"\"\n",
    "    \n",
    "    Mision a {destino}\n",
    "    =================================================\n",
    "    Tiempo de Total de Viaje {sum(tiempo)} Minutos\n",
    "    =================================================\n",
    "    Total de Tanques {sum(tanqueG.values())}\n",
    "    =================================================\"\"\"\n",
    "\n",
    "print(cohete(\"Moon\", 10,15,20,25, tanqueE=11111, tanqueI=22222, tanqueN=33333))"
   ]
  }
 ],
 "metadata": {
  "interpreter": {
   "hash": "ec38f76fcab742012672535d698c95861923b92492bae042536e8242028f44cd"
  },
  "kernelspec": {
   "display_name": "Python 3.10.2 64-bit",
   "language": "python",
   "name": "python3"
  },
  "language_info": {
   "codemirror_mode": {
    "name": "ipython",
    "version": 3
   },
   "file_extension": ".py",
   "mimetype": "text/x-python",
   "name": "python",
   "nbconvert_exporter": "python",
   "pygments_lexer": "ipython3",
   "version": "3.10.2"
  },
  "orig_nbformat": 4
 },
 "nbformat": 4,
 "nbformat_minor": 2
}
