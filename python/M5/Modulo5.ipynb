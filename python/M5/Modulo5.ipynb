{
 "cells": [
  {
   "cell_type": "markdown",
   "metadata": {},
   "source": [
    "### Modulo 5\n",
    "#### Ejercicio 1"
   ]
  },
  {
   "cell_type": "code",
   "execution_count": 24,
   "metadata": {},
   "outputs": [
    {
     "name": "stdout",
     "output_type": "stream",
     "text": [
      "Distancia: 628949330 km\n",
      "Distancia: 390577533.93 millas\n"
     ]
    }
   ],
   "source": [
    "# Crear variables para almacenar las dos distancias\n",
    "# ¡Asegúrate de quitar las comas!\n",
    "\n",
    "Tierra = 149597870\n",
    "Jupiter = 778547200\n",
    "\n",
    "distancia = Jupiter - Tierra\n",
    "print(\"Distancia: \" + str(distancia) + \" km\")\n",
    "print(\"Distancia: \" + str(distancia*.621) + \" millas\")"
   ]
  },
  {
   "cell_type": "markdown",
   "metadata": {},
   "source": [
    "#### Ejercicio 2"
   ]
  },
  {
   "cell_type": "code",
   "execution_count": 25,
   "metadata": {},
   "outputs": [
    {
     "name": "stdout",
     "output_type": "stream",
     "text": [
      "\n",
      "Distancia KM: 1622600000\n",
      "Distancia Millas: 993031200.0\n"
     ]
    }
   ],
   "source": [
    "# Almacenar las entradas del usuario\n",
    "#Pista: variable = input(\"¿Cuál es tu nombre?\")\n",
    "\n",
    "planeta1 = int(input(\"Distancia del primer planeta: \"))\n",
    "planeta2 = int(input(\"Distancia del segundo planeta: \"))\n",
    "\n",
    "distanciaK = abs(planeta1 - planeta2)\n",
    "distanciaM = distanciaK * .612\n",
    "\n",
    "distancia = f\"\"\"\n",
    "Distancia KM: {distanciaK}\n",
    "Distancia Millas: {distanciaM}\"\"\"\n",
    "\n",
    "print(distancia)\n"
   ]
  }
 ],
 "metadata": {
  "interpreter": {
   "hash": "ec38f76fcab742012672535d698c95861923b92492bae042536e8242028f44cd"
  },
  "kernelspec": {
   "display_name": "Python 3.10.2 64-bit",
   "language": "python",
   "name": "python3"
  },
  "language_info": {
   "codemirror_mode": {
    "name": "ipython",
    "version": 3
   },
   "file_extension": ".py",
   "mimetype": "text/x-python",
   "name": "python",
   "nbconvert_exporter": "python",
   "pygments_lexer": "ipython3",
   "version": "3.10.2"
  },
  "orig_nbformat": 4
 },
 "nbformat": 4,
 "nbformat_minor": 2
}
