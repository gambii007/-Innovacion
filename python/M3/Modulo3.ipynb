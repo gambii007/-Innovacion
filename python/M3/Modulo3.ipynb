{
 "cells": [
  {
   "cell_type": "markdown",
   "metadata": {},
   "source": [
    "## Modulo 3\n",
    "### Ejercicio 1\n",
    "\n",
    "#### Un asteroide se acerca, y viaja a una velocidad de 49 km/s."
   ]
  },
  {
   "cell_type": "code",
   "execution_count": 1,
   "metadata": {},
   "outputs": [
    {
     "name": "stdout",
     "output_type": "stream",
     "text": [
      "Advertencia, asteroide aproximandose\n"
     ]
    }
   ],
   "source": [
    "# Añadir el código necesario para crear una variable que guarde la velocidad del asteroide.\n",
    "# Escribe una expresión de prueba para calcular si necesita una advertencia.\n",
    "# Agregue las instrucciones que se ejecutarán si la expresión de prueba es true o false.\n",
    "\n",
    "Velocidad = 49\n",
    "\n",
    "if Velocidad > 25:\n",
    "    print(\"Advertencia, asteroide aproximandose\")\n",
    "else:\n",
    "    print(\"Asteroide lejano\")"
   ]
  },
  {
   "cell_type": "code",
   "execution_count": 8,
   "metadata": {},
   "outputs": [
    {
     "name": "stdout",
     "output_type": "stream",
     "text": [
      "Aun no se logra ver nada en el cielo\n"
     ]
    }
   ],
   "source": [
    "# Agrega el código para crear una variable para un asteroide que viaja a 19 km/s\n",
    "# Escribe varias expresiones de prueba para determinar si puedes ver el rayo de luz desde la tierra\n",
    "# Agrega las instrucciones que se ejecutarán si las expresiones de prueba son True o False\n",
    "\n",
    "Velocidad = 19\n",
    "\n",
    "if Velocidad > 20:\n",
    "    print(\"Mirar al cielo, observar la estela del cometa!\")\n",
    "elif Velocidad == 20:\n",
    "    print(\"Mirar al cielo, se empieza a ver una estela del cometa!\")\n",
    "else:\n",
    "    print(\"Aun no se logra ver nada en el cielo\")"
   ]
  },
  {
   "cell_type": "markdown",
   "metadata": {},
   "source": [
    "### Ejercicio: Uso de operadores and y or"
   ]
  },
  {
   "cell_type": "code",
   "execution_count": 64,
   "metadata": {},
   "outputs": [
    {
     "name": "stdout",
     "output_type": "stream",
     "text": [
      "Mirar al cielo, por la estela del Asteroide\n"
     ]
    }
   ],
   "source": [
    "# Agrega el código para crear nuevas variables para la velocidad y el tamaño del asteroide\n",
    "# Para probar el código, prueba con varias velocidades y tamaños\n",
    "# Escribe varias expresiones de prueba o combinaciones de expresiones de prueba para determinar qué mensaje se debe enviar a Tierra.\n",
    "\n",
    "Velocidad = 20\n",
    "Tamanio = 24\n",
    "\n",
    "if Tamanio >= 26 and Tamanio < 1000:\n",
    "    print(\"Peligro!, Asteroide de gran magnitud detectado\")\n",
    "elif Tamanio >= 25 and Velocidad >= 26:\n",
    "        print(\"Advertencia, asteroide aproximandose\")\n",
    "elif Tamanio < 25 and Velocidad >= 20:\n",
    "    print(\"Mirar al cielo, por la estela del Asteroide\")\n",
    "else:\n",
    "    print(\"Todo OK\")"
   ]
  }
 ],
 "metadata": {
  "interpreter": {
   "hash": "ec38f76fcab742012672535d698c95861923b92492bae042536e8242028f44cd"
  },
  "kernelspec": {
   "display_name": "Python 3.10.2 64-bit",
   "language": "python",
   "name": "python3"
  },
  "language_info": {
   "codemirror_mode": {
    "name": "ipython",
    "version": 3
   },
   "file_extension": ".py",
   "mimetype": "text/x-python",
   "name": "python",
   "nbconvert_exporter": "python",
   "pygments_lexer": "ipython3",
   "version": "3.10.2"
  },
  "orig_nbformat": 4
 },
 "nbformat": 4,
 "nbformat_minor": 2
}
