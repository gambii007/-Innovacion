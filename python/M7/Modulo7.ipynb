{
 "cells": [
  {
   "cell_type": "code",
   "execution_count": 46,
   "metadata": {},
   "outputs": [],
   "source": [
    "#Declarar variables\n",
    "\n",
    "new_planet = ''\n",
    "planets = []\n",
    "\n",
    "new_planet = input(\"Ingrese nombre del Planeta: \")\n",
    "\n",
    "while new_planet != 'done':\n",
    "    if new_planet != '':\n",
    "        planets.append(new_planet)\n",
    "\n",
    "    new_planet = input(\"Ingrese nombre del Planeta: \")\n",
    "\n"
   ]
  },
  {
   "cell_type": "code",
   "execution_count": 48,
   "metadata": {},
   "outputs": [
    {
     "name": "stdout",
     "output_type": "stream",
     "text": [
      "El Planeta 1 en la lista es: Mercurio\n",
      "El Planeta 2 en la lista es: Marte\n",
      "El Planeta 3 en la lista es: Tierra\n",
      "El Planeta 4 en la lista es: Jupiter\n"
     ]
    }
   ],
   "source": [
    "for n in planets:\n",
    "    print(\"El Planeta \" + str(planets.index(n)+1) + \" en la lista es:\", n)"
   ]
  }
 ],
 "metadata": {
  "interpreter": {
   "hash": "ec38f76fcab742012672535d698c95861923b92492bae042536e8242028f44cd"
  },
  "kernelspec": {
   "display_name": "Python 3.10.2 64-bit",
   "language": "python",
   "name": "python3"
  },
  "language_info": {
   "codemirror_mode": {
    "name": "ipython",
    "version": 3
   },
   "file_extension": ".py",
   "mimetype": "text/x-python",
   "name": "python",
   "nbconvert_exporter": "python",
   "pygments_lexer": "ipython3",
   "version": "3.10.2"
  },
  "orig_nbformat": 4
 },
 "nbformat": 4,
 "nbformat_minor": 2
}
